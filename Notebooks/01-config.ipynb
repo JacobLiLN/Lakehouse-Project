{
 "cells": [
  {
   "cell_type": "code",
   "execution_count": 0,
   "metadata": {
    "application/vnd.databricks.v1+cell": {
     "cellMetadata": {
      "byteLimit": 2048000,
      "rowLimit": 10000
     },
     "inputWidgets": {},
     "nuid": "0d308555-c114-4ac7-af5d-611a82164e5b",
     "showTitle": false,
     "tableResultSettingsMap": {},
     "title": ""
    }
   },
   "outputs": [
    {
     "output_type": "execute_result",
     "data": {
      "text/plain": [
       "'abfss://sbit-unmanaged-dev@sbitsajacob.dfs.core.windows.net/data'"
      ]
     },
     "execution_count": 1,
     "metadata": {},
     "output_type": "execute_result"
    }
   ],
   "source": [
    "class Config():    \n",
    "    def __init__(self):      \n",
    "        self.base_dir_data = spark.sql(\"describe external location `data_zone`\").select(\"url\").collect()[0][0]\n",
    "        self.base_dir_checkpoint = spark.sql(\"describe external location `checkpoint`\").select(\"url\").collect()[0][0]\n",
    "        self.db_name = \"sbit_db\"\n",
    "        self.maxFilesPerTrigger = 1000"
   ]
  }
 ],
 "metadata": {
  "application/vnd.databricks.v1+notebook": {
   "dashboards": [],
   "environmentMetadata": {
    "base_environment": "",
    "client": "1"
   },
   "language": "python",
   "notebookMetadata": {
    "pythonIndentUnit": 4
   },
   "notebookName": "01-config",
   "widgets": {}
  },
  "language_info": {
   "name": "python"
  }
 },
 "nbformat": 4,
 "nbformat_minor": 0
}
