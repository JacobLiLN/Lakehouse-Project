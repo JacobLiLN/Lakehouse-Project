{
 "cells": [
  {
   "cell_type": "code",
   "execution_count": 0,
   "metadata": {
    "application/vnd.databricks.v1+cell": {
     "cellMetadata": {},
     "inputWidgets": {},
     "nuid": "bb1db968-d604-487f-bdcf-df3decb05332",
     "showTitle": false,
     "tableResultSettingsMap": {},
     "title": ""
    }
   },
   "outputs": [],
   "source": [
    "dbutils.widgets.text(\"Environment\", \"dev\", \"Set the current environment/catalog name\")\n",
    "dbutils.widgets.text(\"Host\", \"\", \"Databricks Workspace URL\")\n",
    "dbutils.widgets.text(\"AccessToken\", \"\", \"Secure Access Token\")"
   ]
  },
  {
   "cell_type": "code",
   "execution_count": 0,
   "metadata": {
    "application/vnd.databricks.v1+cell": {
     "cellMetadata": {},
     "inputWidgets": {},
     "nuid": "c07da9a0-cc02-40d5-82cb-a0c9eb321edc",
     "showTitle": false,
     "tableResultSettingsMap": {},
     "title": ""
    }
   },
   "outputs": [],
   "source": [
    "env = dbutils.widgets.get(\"Environment\")\n",
    "host = dbutils.widgets.get(\"Host\")\n",
    "token = dbutils.widgets.get(\"AccessToken\")"
   ]
  },
  {
   "cell_type": "code",
   "execution_count": 0,
   "metadata": {
    "application/vnd.databricks.v1+cell": {
     "cellMetadata": {},
     "inputWidgets": {},
     "nuid": "7e2b19dc-3b4a-48a0-8fe9-8226efd71538",
     "showTitle": false,
     "tableResultSettingsMap": {},
     "title": ""
    }
   },
   "outputs": [],
   "source": [
    "%run ./02-setup"
   ]
  },
  {
   "cell_type": "code",
   "execution_count": 0,
   "metadata": {
    "application/vnd.databricks.v1+cell": {
     "cellMetadata": {},
     "inputWidgets": {},
     "nuid": "b4f5a0fd-846d-4f3f-9d43-3778198b01bb",
     "showTitle": false,
     "tableResultSettingsMap": {},
     "title": ""
    }
   },
   "outputs": [],
   "source": [
    "SH = SetupHelper(env)\n",
    "SH.cleanup()"
   ]
  },
  {
   "cell_type": "code",
   "execution_count": 0,
   "metadata": {
    "application/vnd.databricks.v1+cell": {
     "cellMetadata": {},
     "inputWidgets": {},
     "nuid": "60fc97ed-7304-4189-b175-e02165f2440c",
     "showTitle": false,
     "tableResultSettingsMap": {},
     "title": ""
    }
   },
   "outputs": [],
   "source": [
    "job_payload = \\\n",
    "{\n",
    "        \"name\": \"stream-test\",\n",
    "        \"webhook_notifications\": {},\n",
    "        \"timeout_seconds\": 0,\n",
    "        \"max_concurrent_runs\": 1,\n",
    "        \"tasks\": [\n",
    "            {\n",
    "                \"task_key\": \"stream-test-task\",\n",
    "                \"run_if\": \"ALL_SUCCESS\",\n",
    "                \"notebook_task\": {\n",
    "                    \"notebook_path\": \"/Repos/Lakehouse/Lakehouse/08-run\",\n",
    "                    \"source\": \"WORKSPACE\"\n",
    "                },\n",
    "                \"job_cluster_key\": \"Job_cluster\",\n",
    "                \"timeout_seconds\": 0,\n",
    "                \"email_notifications\": {}\n",
    "            }\n",
    "        ],\n",
    "        \"job_clusters\": [\n",
    "            {\n",
    "                \"job_cluster_key\": \"Job_cluster\",\n",
    "                \"new_cluster\": {\n",
    "                    \"spark_version\": \"13.3.x-scala2.12\",\n",
    "                    \"spark_conf\": {\n",
    "                        \"spark.databricks.delta.preview.enabled\": \"true\",\n",
    "                        \"spark.master\": \"local[*, 4]\",\n",
    "                        \"spark.databricks.cluster.profile\": \"singleNode\"\n",
    "                    },\n",
    "                    \"azure_attributes\": {\n",
    "                        \"first_on_demand\": 1,\n",
    "                        \"availability\": \"ON_DEMAND_AZURE\",\n",
    "                        \"spot_bid_max_price\": -1\n",
    "                    },\n",
    "                    \"node_type_id\": \"Standard_DS4_v2\",\n",
    "                    \"driver_node_type_id\": \"Standard_DS4_v2\",\n",
    "                    \"custom_tags\": {\n",
    "                        \"ResourceClass\": \"SingleNode\"\n",
    "                    },\n",
    "                    \"data_security_mode\": \"SINGLE_USER\",\n",
    "                    \"runtime_engine\": \"STANDARD\",\n",
    "                    \"num_workers\": 0\n",
    "                }\n",
    "            }\n",
    "        ],\n",
    "        \"format\": \"MULTI_TASK\"\n",
    "    }\n"
   ]
  },
  {
   "cell_type": "code",
   "execution_count": 0,
   "metadata": {
    "application/vnd.databricks.v1+cell": {
     "cellMetadata": {},
     "inputWidgets": {},
     "nuid": "d0ba2d9c-d02e-4b43-a6a0-20e93a2b2aab",
     "showTitle": false,
     "tableResultSettingsMap": {},
     "title": ""
    }
   },
   "outputs": [],
   "source": [
    "import requests\n",
    "import json\n",
    "create_response = requests.post(host + '/api/2.1/jobs/create', data=json.dumps(job_payload), auth=(\"token\", token))\n",
    "print(f\"Response: {create_response}\")\n",
    "job_id = json.loads(create_response.content.decode('utf-8'))[\"job_id\"]\n",
    "print(f\"Created Job {job_id}\")"
   ]
  },
  {
   "cell_type": "code",
   "execution_count": 0,
   "metadata": {
    "application/vnd.databricks.v1+cell": {
     "cellMetadata": {},
     "inputWidgets": {},
     "nuid": "1ba9e5f4-66c0-40cb-ac77-f6615c39fbe0",
     "showTitle": false,
     "tableResultSettingsMap": {},
     "title": ""
    }
   },
   "outputs": [],
   "source": [
    "run_payload = {\"job_id\": job_id, \"notebook_params\": {\"Environment\":env, \"RunType\": \"stream\", \"ProcessingTime\": \"1 seconds\"}}\n",
    "run_response = requests.post(host + '/api/2.1/jobs/run-now', data=json.dumps(run_payload), auth=(\"token\", token))\n",
    "run_id = json.loads(run_response.content.decode('utf-8'))[\"run_id\"]\n",
    "print(f\"Started Job run {run_id}\")"
   ]
  },
  {
   "cell_type": "code",
   "execution_count": 0,
   "metadata": {
    "application/vnd.databricks.v1+cell": {
     "cellMetadata": {},
     "inputWidgets": {},
     "nuid": "8231b041-48dd-4dee-a19f-3a1009265957",
     "showTitle": false,
     "tableResultSettingsMap": {},
     "title": ""
    }
   },
   "outputs": [],
   "source": [
    "import time\n",
    "status_payload = {\"run_id\": run_id}\n",
    "job_status=\"PENDING\"\n",
    "while job_status == \"PENDING\":\n",
    "    time.sleep(20)\n",
    "    status_job_response = requests.get(host + '/api/2.1/jobs/runs/get', data=json.dumps(status_payload), auth=(\"token\", token))\n",
    "    job_status = json.loads(status_job_response.content.decode('utf-8'))[\"tasks\"][0][\"state\"][\"life_cycle_state\"]  \n",
    "    print(job_status)    \n"
   ]
  },
  {
   "cell_type": "code",
   "execution_count": 0,
   "metadata": {
    "application/vnd.databricks.v1+cell": {
     "cellMetadata": {},
     "inputWidgets": {},
     "nuid": "722005f2-8d1e-41bd-bb0c-3d9b6af8dc74",
     "showTitle": false,
     "tableResultSettingsMap": {},
     "title": ""
    }
   },
   "outputs": [],
   "source": [
    "%run ./03-history-loader"
   ]
  },
  {
   "cell_type": "code",
   "execution_count": 0,
   "metadata": {
    "application/vnd.databricks.v1+cell": {
     "cellMetadata": {},
     "inputWidgets": {},
     "nuid": "852dc68e-9cb3-4b09-bdce-76ec5e6d1eb0",
     "showTitle": false,
     "tableResultSettingsMap": {},
     "title": ""
    }
   },
   "outputs": [],
   "source": [
    "%run ./04-producer-simulator"
   ]
  },
  {
   "cell_type": "code",
   "execution_count": 0,
   "metadata": {
    "application/vnd.databricks.v1+cell": {
     "cellMetadata": {},
     "inputWidgets": {},
     "nuid": "df65c0d7-23f9-4d92-a93c-b9f76debd947",
     "showTitle": false,
     "tableResultSettingsMap": {},
     "title": ""
    }
   },
   "outputs": [],
   "source": [
    "%run ./05-bronze"
   ]
  },
  {
   "cell_type": "code",
   "execution_count": 0,
   "metadata": {
    "application/vnd.databricks.v1+cell": {
     "cellMetadata": {},
     "inputWidgets": {},
     "nuid": "49a672da-0c38-46a5-b7db-64cffaa60e7a",
     "showTitle": false,
     "tableResultSettingsMap": {},
     "title": ""
    }
   },
   "outputs": [],
   "source": [
    "%run ./06-silver"
   ]
  },
  {
   "cell_type": "code",
   "execution_count": 0,
   "metadata": {
    "application/vnd.databricks.v1+cell": {
     "cellMetadata": {},
     "inputWidgets": {},
     "nuid": "0c3029f9-3a8e-4e7d-a498-e6486a9d8fa5",
     "showTitle": false,
     "tableResultSettingsMap": {},
     "title": ""
    }
   },
   "outputs": [],
   "source": [
    "%run ./07-gold"
   ]
  },
  {
   "cell_type": "code",
   "execution_count": 0,
   "metadata": {
    "application/vnd.databricks.v1+cell": {
     "cellMetadata": {},
     "inputWidgets": {},
     "nuid": "389bd82f-0ecd-46a5-8f99-68b5b774b466",
     "showTitle": false,
     "tableResultSettingsMap": {},
     "title": ""
    }
   },
   "outputs": [],
   "source": [
    "import time\n",
    "\n",
    "print(\"Sleep for 2 minutes and let setup and history loader finish...\")\n",
    "time.sleep(2*60)\n",
    "\n",
    "HL = HistoryLoader(env)\n",
    "HL.load_history()\n",
    "PR = Producer()\n",
    "BZ = Bronze(env)\n",
    "SL = Silver(env)\n",
    "GL = Gold(env)\n",
    "\n",
    "SH.validate()\n",
    "\n",
    "PR.produce(1)"
   ]
  },
  {
   "cell_type": "code",
   "execution_count": 0,
   "metadata": {
    "application/vnd.databricks.v1+cell": {
     "cellMetadata": {},
     "inputWidgets": {},
     "nuid": "e77ae6a3-08e9-48b6-b9be-bdc8fe8a4b2c",
     "showTitle": false,
     "tableResultSettingsMap": {},
     "title": ""
    }
   },
   "outputs": [],
   "source": [
    "print(\"Sleep for 2 minutes and let microbatch pickup the data...\")\n",
    "time.sleep(2*60)"
   ]
  },
  {
   "cell_type": "code",
   "execution_count": 0,
   "metadata": {
    "application/vnd.databricks.v1+cell": {
     "cellMetadata": {},
     "inputWidgets": {},
     "nuid": "55155023-71e1-48c6-9cf1-06f1bd04c893",
     "showTitle": false,
     "tableResultSettingsMap": {},
     "title": ""
    }
   },
   "outputs": [],
   "source": [
    "GL.validate(1)"
   ]
  },
  {
   "cell_type": "code",
   "execution_count": 0,
   "metadata": {
    "application/vnd.databricks.v1+cell": {
     "cellMetadata": {},
     "inputWidgets": {},
     "nuid": "091559f9-a4fe-4e4a-8e43-4d892763d469",
     "showTitle": false,
     "tableResultSettingsMap": {},
     "title": ""
    }
   },
   "outputs": [],
   "source": [
    "PR.produce(2)"
   ]
  },
  {
   "cell_type": "code",
   "execution_count": 0,
   "metadata": {
    "application/vnd.databricks.v1+cell": {
     "cellMetadata": {},
     "inputWidgets": {},
     "nuid": "aefa4691-d8c0-4d2a-8d24-c98532f2b1f7",
     "showTitle": false,
     "tableResultSettingsMap": {},
     "title": ""
    }
   },
   "outputs": [],
   "source": [
    "print(\"Sleep for 2 minutes and let microbatch pickup the data...\")\n",
    "time.sleep(2*60)"
   ]
  },
  {
   "cell_type": "code",
   "execution_count": 0,
   "metadata": {
    "application/vnd.databricks.v1+cell": {
     "cellMetadata": {},
     "inputWidgets": {},
     "nuid": "53f86ed8-0d85-41c5-83bc-8f0344d3100d",
     "showTitle": false,
     "tableResultSettingsMap": {},
     "title": ""
    }
   },
   "outputs": [],
   "source": [
    "GL.validate(2)"
   ]
  },
  {
   "cell_type": "code",
   "execution_count": 0,
   "metadata": {
    "application/vnd.databricks.v1+cell": {
     "cellMetadata": {},
     "inputWidgets": {},
     "nuid": "ec971d8f-f252-464d-99b3-d91043831992",
     "showTitle": false,
     "tableResultSettingsMap": {},
     "title": ""
    }
   },
   "outputs": [],
   "source": [
    "cancel_payload = {\"run_id\": run_id}\n",
    "cancel_response = requests.post(host + '/api/2.1/jobs/runs/cancel', data=json.dumps(cancel_payload), auth=(\"token\", token))\n",
    "print(f\"Canceled Job run {run_id}. Status {cancel_response}\")"
   ]
  },
  {
   "cell_type": "code",
   "execution_count": 0,
   "metadata": {
    "application/vnd.databricks.v1+cell": {
     "cellMetadata": {},
     "inputWidgets": {},
     "nuid": "c8dc4de2-c483-4855-9463-31511df6f729",
     "showTitle": false,
     "tableResultSettingsMap": {},
     "title": ""
    }
   },
   "outputs": [],
   "source": [
    "delete_job_payload = {\"job_id\": job_id}\n",
    "delete_job_response = requests.post(host + '/api/2.1/jobs/delete', data=json.dumps(delete_job_payload), auth=(\"token\", token))\n",
    "print(f\"Canceled Job run {run_id}. Status {delete_job_response}\")"
   ]
  },
  {
   "cell_type": "code",
   "execution_count": 0,
   "metadata": {
    "application/vnd.databricks.v1+cell": {
     "cellMetadata": {},
     "inputWidgets": {},
     "nuid": "55b2b3e2-f2c6-4d6b-a59c-2eb5673e838d",
     "showTitle": false,
     "tableResultSettingsMap": {},
     "title": ""
    }
   },
   "outputs": [],
   "source": [
    "dbutils.notebook.exit(\"SUCCESS\")"
   ]
  }
 ],
 "metadata": {
  "application/vnd.databricks.v1+notebook": {
   "dashboards": [],
   "environmentMetadata": {
    "base_environment": "",
    "client": "1"
   },
   "language": "python",
   "notebookMetadata": {
    "pythonIndentUnit": 4
   },
   "notebookName": "10-stream-test",
   "widgets": {}
  },
  "language_info": {
   "name": "python"
  }
 },
 "nbformat": 4,
 "nbformat_minor": 0
}
